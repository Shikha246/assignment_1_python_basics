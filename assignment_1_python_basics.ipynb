{
 "cells": [
  {
   "cell_type": "markdown",
   "id": "7234fa4d",
   "metadata": {},
   "source": [
    "## 1. In the below elements which of them are values or an expression? eg:- values can be\n",
    "integer or string and expressions will be mathematical operators.\n",
    "\n",
    "\n",
    "* ---------mathematical operators\n",
    "\n",
    "&#39;hello&#39; ---------value\n",
    "\n",
    "-87.8 -------------value\n",
    "\n",
    "- ---------------mathematical operators\n",
    "\n",
    "/ ----------------mathematical operators\n",
    "\n",
    "+ ---------------mathematical operators\n",
    "\n",
    "6 -------------------value\n"
   ]
  },
  {
   "cell_type": "markdown",
   "id": "f5f32f07",
   "metadata": {},
   "source": [
    "## 2. What is the difference between string and variable?"
   ]
  },
  {
   "cell_type": "markdown",
   "id": "5556502c",
   "metadata": {},
   "source": [
    "A string is ordered sequence of characters for ex: \"Hello world\",\"12345\"\n",
    "\n",
    "\n",
    "Whereas a variable is a placeholder where we can store the data in any format like string, integer,float... ex: name=\"Shikha\""
   ]
  },
  {
   "cell_type": "markdown",
   "id": "6b227ba5",
   "metadata": {},
   "source": [
    "## 3.Describe three different data types."
   ]
  },
  {
   "cell_type": "markdown",
   "id": "dcd81f6c",
   "metadata": {},
   "source": [
    "1. Integer- It means any integer value positive or negative ex:1,-98,34 etc..\n",
    "\n",
    "2.Float: It means numbers with decimal points.It can be positive or negative ex:4.098,-2.098\n",
    "\n",
    "3.String: It means sequence of characters ex:\"Hi I am Shikha\""
   ]
  },
  {
   "cell_type": "markdown",
   "id": "e2ec268c",
   "metadata": {},
   "source": [
    "## 4. What is an expression made up of? What do all expressions do?"
   ]
  },
  {
   "cell_type": "markdown",
   "id": "5d4158a5",
   "metadata": {},
   "source": [
    "An expression is made up of variables, operators to give you a value. Expressions are use to solve problem statement and create math models."
   ]
  },
  {
   "cell_type": "markdown",
   "id": "b9997f62",
   "metadata": {},
   "source": [
    "## 5. This assignment statements, like spam = 10. What is the difference between an expression and a statement?"
   ]
  },
  {
   "cell_type": "markdown",
   "id": "0f8a0ddf",
   "metadata": {},
   "source": [
    "expression consists of variables and operators where as a statement consists of LHS and RHS where we have  expression on LHS and value on right hand side."
   ]
  },
  {
   "cell_type": "markdown",
   "id": "13ea9945",
   "metadata": {},
   "source": [
    "## 6. After running the following code, what does the variable bacon contain?\n",
    "bacon = 22\n",
    "\n",
    "bacon + 1"
   ]
  },
  {
   "cell_type": "code",
   "execution_count": 3,
   "id": "cdb0a707",
   "metadata": {},
   "outputs": [
    {
     "data": {
      "text/plain": [
       "22"
      ]
     },
     "execution_count": 3,
     "metadata": {},
     "output_type": "execute_result"
    }
   ],
   "source": [
    "#The variable bacon contains 22 as after incrementing its not assigned to the bacon variable.\n",
    "bacon = 22\n",
    "\n",
    "bacon + 1\n",
    "bacon"
   ]
  },
  {
   "cell_type": "markdown",
   "id": "8ed9542d",
   "metadata": {},
   "source": [
    "## 7. What should the values of the following two terms be?\n",
    "&#39;spam&#39; + &#39;spamspam&#39;\n",
    "\n",
    "&#39;spam&#39; * 3"
   ]
  },
  {
   "cell_type": "code",
   "execution_count": 5,
   "id": "644df476",
   "metadata": {},
   "outputs": [
    {
     "data": {
      "text/plain": [
       "'spamspamspam'"
      ]
     },
     "execution_count": 5,
     "metadata": {},
     "output_type": "execute_result"
    }
   ],
   "source": [
    "# Here the two strings are getting concatenated usibg + operator\n",
    "'spam' + 'spamspam'"
   ]
  },
  {
   "cell_type": "code",
   "execution_count": 6,
   "id": "c017b41e",
   "metadata": {},
   "outputs": [
    {
     "data": {
      "text/plain": [
       "'spamspamspam'"
      ]
     },
     "execution_count": 6,
     "metadata": {},
     "output_type": "execute_result"
    }
   ],
   "source": [
    "# Here we are trying to print spam for three times\n",
    "\n",
    "'spam' * 3"
   ]
  },
  {
   "cell_type": "markdown",
   "id": "601c6381",
   "metadata": {},
   "source": [
    "## 8. Why is eggs a valid variable name while 100 is invalid?"
   ]
  },
  {
   "cell_type": "markdown",
   "id": "6a937d05",
   "metadata": {},
   "source": [
    "eggs is a valid variable name as per the rule of the language the variable can stat with letters uppercase or lowercase but cannot start with a number that is why 100 is invalid. "
   ]
  },
  {
   "cell_type": "markdown",
   "id": "3fb8017c",
   "metadata": {},
   "source": [
    "## 9. What three functions can be used to get the integer, floating-point number, or string version of a value?"
   ]
  },
  {
   "cell_type": "markdown",
   "id": "f2e258c4",
   "metadata": {},
   "source": [
    "int() for integer\n",
    "\n",
    "float() for float\n",
    "\n",
    "str() for string"
   ]
  },
  {
   "cell_type": "markdown",
   "id": "e79d9a2e",
   "metadata": {},
   "source": [
    "## 10. Why does this expression cause an error? How can you fix it?\n",
    "&#39;I have eaten &#39; + 99 + &#39; burritos.&#39;"
   ]
  },
  {
   "cell_type": "code",
   "execution_count": 7,
   "id": "3f45032d",
   "metadata": {},
   "outputs": [
    {
     "ename": "TypeError",
     "evalue": "can only concatenate str (not \"int\") to str",
     "output_type": "error",
     "traceback": [
      "\u001b[1;31m---------------------------------------------------------------------------\u001b[0m",
      "\u001b[1;31mTypeError\u001b[0m                                 Traceback (most recent call last)",
      "\u001b[1;32m~\\AppData\\Local\\Temp/ipykernel_2532/1774935878.py\u001b[0m in \u001b[0;36m<module>\u001b[1;34m\u001b[0m\n\u001b[1;32m----> 1\u001b[1;33m \u001b[1;34m'I have eaten '\u001b[0m \u001b[1;33m+\u001b[0m \u001b[1;36m99\u001b[0m \u001b[1;33m+\u001b[0m \u001b[1;34m' burritos.'\u001b[0m\u001b[1;33m\u001b[0m\u001b[1;33m\u001b[0m\u001b[0m\n\u001b[0m",
      "\u001b[1;31mTypeError\u001b[0m: can only concatenate str (not \"int\") to str"
     ]
    }
   ],
   "source": [
    "'I have eaten ' + 99 + ' burritos.'"
   ]
  },
  {
   "cell_type": "markdown",
   "id": "4391b0d2",
   "metadata": {},
   "source": [
    "The above expression is giving error we are trying to concatenate string and integer. we need to put single quotes for 99"
   ]
  },
  {
   "cell_type": "code",
   "execution_count": 8,
   "id": "0d6db7b6",
   "metadata": {},
   "outputs": [
    {
     "data": {
      "text/plain": [
       "'I have eaten 99 burritos.'"
      ]
     },
     "execution_count": 8,
     "metadata": {},
     "output_type": "execute_result"
    }
   ],
   "source": [
    "'I have eaten ' + '99' + ' burritos.'"
   ]
  },
  {
   "cell_type": "code",
   "execution_count": null,
   "id": "d323a4cf",
   "metadata": {},
   "outputs": [],
   "source": []
  }
 ],
 "metadata": {
  "kernelspec": {
   "display_name": "Python 3 (ipykernel)",
   "language": "python",
   "name": "python3"
  },
  "language_info": {
   "codemirror_mode": {
    "name": "ipython",
    "version": 3
   },
   "file_extension": ".py",
   "mimetype": "text/x-python",
   "name": "python",
   "nbconvert_exporter": "python",
   "pygments_lexer": "ipython3",
   "version": "3.9.7"
  }
 },
 "nbformat": 4,
 "nbformat_minor": 5
}
